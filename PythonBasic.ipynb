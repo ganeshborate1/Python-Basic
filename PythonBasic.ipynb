{
  "nbformat": 4,
  "nbformat_minor": 0,
  "metadata": {
    "colab": {
      "provenance": []
    },
    "kernelspec": {
      "name": "python3",
      "display_name": "Python 3"
    },
    "language_info": {
      "name": "python"
    }
  },
  "cells": [
    {
      "cell_type": "markdown",
      "source": [
        "1. What is Python, and why is it popular\n",
        "\n",
        "->Python is high level interpreted language and it is popular for is easyness and its versatile in nature and it is cross platform"
      ],
      "metadata": {
        "id": "Psplxqy7Cyqz"
      }
    },
    {
      "cell_type": "markdown",
      "source": [
        "2. What is an interpreter in Python ?\n",
        "\n",
        "-> interpreter is a program that execute a program line by line, insted of compiling program  at once"
      ],
      "metadata": {
        "id": "de2HRJ2hDsMx"
      }
    },
    {
      "cell_type": "markdown",
      "source": [
        "3. What are pre-defined keywords in Python\n",
        "\n",
        "->\n",
        "if\n",
        "else\n",
        "elif\n",
        "def\n",
        "for\n",
        "while\n",
        "break\n",
        "continue\n",
        "true\n",
        "false\n",
        "none\n",
        "and\n",
        "or\n",
        "not"
      ],
      "metadata": {
        "id": "09OxKtNQEo3A"
      }
    },
    {
      "cell_type": "markdown",
      "source": [
        "4. Can keywords be used as variable names\n",
        "\n",
        "->no keywords cannot be used as veriable names, keywords are the reserved words that python used to define syntax\n"
      ],
      "metadata": {
        "id": "Q20Gll-NFQOy"
      }
    },
    {
      "cell_type": "markdown",
      "source": [
        "5. What is mutability in Python\n",
        "-> mutability is nothing but the changability in python after declaration so the ex of mutabability is list, dict,set,etc"
      ],
      "metadata": {
        "id": "nJW9x15PFzTo"
      }
    },
    {
      "cell_type": "markdown",
      "source": [
        "6. Why are lists mutable, but tuples are immutable\n",
        "->list are designed to represent dynamic type of data which can be added, removed or modified thats why list are mutable and  tuples are immutable that the data remains constant which prevents accidental modifications"
      ],
      "metadata": {
        "id": "4uG0CTdmGuXJ"
      }
    },
    {
      "cell_type": "markdown",
      "source": [
        "7.  What is the difference between “==” and “is” operators in Python\n",
        "-> \"==\" is a equality operator where as \"is\" is identity operator \"==\" compares two values of two mobject  is similar or not where as the \"is\" checks wheather the two varaibles refer to the same object\n",
        "\n",
        "ex:\n",
        "a = [1, 2]\n",
        "b = a\n",
        "c = [1, 2]\n",
        "\n",
        "print(a == b)  # True\n",
        "print(a is b)  # True (same object)\n",
        "\n",
        "print(a == c)  # True\n",
        "print(a is c)  # False (different objects with same value)\n"
      ],
      "metadata": {
        "id": "w7SRDdGUFpKn"
      }
    },
    {
      "cell_type": "markdown",
      "source": [
        "8. What are logical operators in Python\n",
        "-> there are three logical operator in python which is: and , or, not"
      ],
      "metadata": {
        "id": "up7Ja3DwHK6a"
      }
    },
    {
      "cell_type": "markdown",
      "source": [
        "9. What is type casting in Python\n",
        "-> Type casting is the process of conveting  one data type to another in python"
      ],
      "metadata": {
        "id": "nxfRMYFPHyvE"
      }
    },
    {
      "cell_type": "markdown",
      "source": [
        "10.  What is the difference between implicit and explicit type casting\n",
        "-> **implicit** type casting occours when lower data type converted to the higher data type to prevent data loss during operation\n",
        "  explicit type casting done manually by the programmer using built in function like int, float,str,etc"
      ],
      "metadata": {
        "id": "YxGjG_jfITI5"
      }
    },
    {
      "cell_type": "markdown",
      "source": [
        "11. What is the purpose of conditional statements in Python\n",
        "->  conditional statment is used to make a flow of program based on certain condition. they allow programmer to make descision and execute specific block of code depending upon weather condition is true or false."
      ],
      "metadata": {
        "id": "dmPv7sDZKkcu"
      }
    },
    {
      "cell_type": "markdown",
      "source": [
        "12.How does the elif statement work\n",
        " -> elif statment is used to check the condition is true or false after the if condition\n",
        "  elif statment allows programmer to chain multiple condition"
      ],
      "metadata": {
        "id": "AUaGpmdoLZfI"
      }
    },
    {
      "cell_type": "markdown",
      "source": [
        "13. What is the difference between for and while loops\n",
        "-> for loop is used when ypu are itrating  through items or ranges\n",
        "  while loop is used when the end condition depends on logic or user input"
      ],
      "metadata": {
        "id": "vu3bmBwIMHqx"
      }
    },
    {
      "cell_type": "markdown",
      "source": [
        "14.Describe a scenario where a while loop is more suitable than a for loop.\n",
        "\n",
        "-> Keep asking user “Do you want to continue?” until they say “no”\n",
        "\n",
        "answer = \"yes\"\n",
        "\n",
        "while answer.lower() == \"yes\":\n",
        "    print(\"You chose to continue!\")\n",
        "    answer = input(\"Do you want to continue? (yes/no): \")\n",
        "\n",
        "print(\"Loop ended. You said no.\")\n",
        "\n",
        "\n",
        " We dont know how many times the user will say “yes”.\n",
        " The loop runs **as long as the user wants to continue**.\n",
        " A for loop cannot handle this easily because it needs a fixed number of repetitions.\n",
        "\n"
      ],
      "metadata": {
        "id": "BkzundVMM4c_"
      }
    },
    {
      "cell_type": "markdown",
      "source": [
        "# Practical **Questions**\n"
      ],
      "metadata": {
        "id": "Zi8AYrlLONgi"
      }
    },
    {
      "cell_type": "code",
      "source": [
        "#1. Write a Python program to print Hello, World!\n",
        "print(\"hello,world\")"
      ],
      "metadata": {
        "colab": {
          "base_uri": "https://localhost:8080/"
        },
        "id": "FJqRTrJjOXrl",
        "outputId": "266c0581-5a66-43d2-c9cf-2871b0edca7a"
      },
      "execution_count": 1,
      "outputs": [
        {
          "output_type": "stream",
          "name": "stdout",
          "text": [
            "hello,world\n"
          ]
        }
      ]
    },
    {
      "cell_type": "code",
      "source": [
        "#2. Write a Python program that displays your name and age\n",
        "name= \"Ganesh Borate\"\n",
        "age = 27\n",
        "\n",
        "print(\"name is \", name)\n",
        "print(\"age is\",age)"
      ],
      "metadata": {
        "colab": {
          "base_uri": "https://localhost:8080/"
        },
        "id": "VLuBUxiFO3wV",
        "outputId": "b4f4515a-9ec2-47cf-d505-80be3ea97cad"
      },
      "execution_count": 2,
      "outputs": [
        {
          "output_type": "stream",
          "name": "stdout",
          "text": [
            "name Ganesh Borate\n",
            "age is 27\n"
          ]
        }
      ]
    },
    {
      "cell_type": "code",
      "source": [
        "#3 Write code to print all the pre-defined keywords in Python using the keyword library\n",
        "\n",
        "import keyword\n",
        "print(keyword.kwlist)\n",
        "\n",
        "\n"
      ],
      "metadata": {
        "colab": {
          "base_uri": "https://localhost:8080/"
        },
        "id": "p0Xd5SSwPfuJ",
        "outputId": "6f0a44c5-0082-449b-ea5f-f7b20ed82ccf"
      },
      "execution_count": 4,
      "outputs": [
        {
          "output_type": "stream",
          "name": "stdout",
          "text": [
            "['False', 'None', 'True', 'and', 'as', 'assert', 'async', 'await', 'break', 'class', 'continue', 'def', 'del', 'elif', 'else', 'except', 'finally', 'for', 'from', 'global', 'if', 'import', 'in', 'is', 'lambda', 'nonlocal', 'not', 'or', 'pass', 'raise', 'return', 'try', 'while', 'with', 'yield']\n"
          ]
        }
      ]
    },
    {
      "cell_type": "code",
      "source": [
        "#4. Write a program that checks if a given word is a Python keyword\n",
        "import keyword\n",
        "word = input(\"enter any word to check weather it is keyword or not\")\n",
        "if keyword.iskeyword(word):\n",
        "  print(word,\"is a keyword\")\n",
        "else:\n",
        "  print(word,\"is not a keyword\")"
      ],
      "metadata": {
        "colab": {
          "base_uri": "https://localhost:8080/"
        },
        "id": "rLHG5YAOQ8MR",
        "outputId": "3fe030c9-1f19-4b9b-b240-d477ddb596b3"
      },
      "execution_count": 12,
      "outputs": [
        {
          "output_type": "stream",
          "name": "stdout",
          "text": [
            "enter any word to check weather it is keyword or notif\n",
            "if is a keyword\n"
          ]
        }
      ]
    },
    {
      "cell_type": "code",
      "source": [
        "#5 Create a list and tuple in Python, and demonstrate how attempting to change an element works differently\n",
        "\n",
        "my_list=[10,20,30,40]\n",
        "my_tuple =(10,20,30)\n",
        "\n",
        "my_list[0]=12   #this line will assign value 12 at the index of 0th position which will make the final output as my_list=[12,20,30,40]\n",
        "print(\"new list is\",my_list)\n",
        "\n",
        "my_tuple[0]=12    # this line will make TypeError:'tuple' object does not support item assignment\n",
        "\n",
        "print(\"new tuple is\", my_tuple)"
      ],
      "metadata": {
        "colab": {
          "base_uri": "https://localhost:8080/"
        },
        "id": "nrU_LqmPUHEj",
        "outputId": "dd36d689-c728-44a6-de0b-0442ad6360ae"
      },
      "execution_count": 16,
      "outputs": [
        {
          "output_type": "stream",
          "name": "stdout",
          "text": [
            "new list is [12, 20, 30, 40]\n",
            "new tuple is (10, 20, 30)\n"
          ]
        }
      ]
    },
    {
      "cell_type": "code",
      "source": [
        "#6. Write a function to demonstrate the behavior of mutable and immutable arguments.\n",
        "\n",
        "def change(x, y):\n",
        "    x = 0\n",
        "    y[0] = 100\n",
        "\n",
        "a = 5\n",
        "b = [1]\n",
        "\n",
        "change(a, b)\n",
        "\n",
        "print(\"a =\", a)  # Output: 5 (unchanged)\n",
        "print(\"b =\", b)  # Output: [100] (changed)\n"
      ],
      "metadata": {
        "colab": {
          "base_uri": "https://localhost:8080/"
        },
        "id": "wrg9oIXVWLrK",
        "outputId": "1eda26e4-c3c4-4c8c-9fff-c671c7e4f94a"
      },
      "execution_count": 17,
      "outputs": [
        {
          "output_type": "stream",
          "name": "stdout",
          "text": [
            "a = 5\n",
            "b = [100]\n"
          ]
        }
      ]
    },
    {
      "cell_type": "code",
      "source": [
        "#7. Write a program that performs basic arithmetic operations on two user-input numbers.\n",
        "num1=int(input(\"enter the first num\"))\n",
        "num2=int(input(\"enter the second num\"))\n",
        "print(\"addition is\",num1+num2)\n",
        "print(\"subtraction is\",num1-num2)\n",
        "print(\"multiplication is\",num1*num2)\n",
        "print(\"division is\",num1/num2)"
      ],
      "metadata": {
        "colab": {
          "base_uri": "https://localhost:8080/"
        },
        "id": "AvtBtuRSYHM7",
        "outputId": "d2058a89-b6de-4f4c-9430-f212fe10bf89"
      },
      "execution_count": 18,
      "outputs": [
        {
          "output_type": "stream",
          "name": "stdout",
          "text": [
            "enter the first num10\n",
            "enter the second num20\n",
            "addition is 30\n",
            "subtraction is -10\n",
            "multiplication is 200\n",
            "division is 0.5\n"
          ]
        }
      ]
    },
    {
      "cell_type": "code",
      "source": [
        "#8.Write a program to demonstrate the use of logical operators\n",
        "a = True\n",
        "b = False\n",
        "\n",
        "print(\"a and b =\", a and b)   # True AND False = False\n",
        "print(\"a or b =\", a or b)     # True OR False = True\n",
        "print(\"not a =\", not a)       # NOT True = False\n",
        "print(\"not b =\", not b)       # NOT False = True\n"
      ],
      "metadata": {
        "colab": {
          "base_uri": "https://localhost:8080/"
        },
        "id": "-MOZRv17YtYo",
        "outputId": "9fa82bd8-0061-4846-8c78-03dfe15f749a"
      },
      "execution_count": 19,
      "outputs": [
        {
          "output_type": "stream",
          "name": "stdout",
          "text": [
            "a and b = False\n",
            "a or b = True\n",
            "not a = False\n",
            "not b = True\n"
          ]
        }
      ]
    },
    {
      "cell_type": "code",
      "source": [
        "#9. Write a Python program to convert user input from string to integer, float, and boolean types.\n",
        "num = input(\"enter the input\")\n",
        "print(\"into int\",int(num))\n",
        "print(\"into float\",float(num))\n",
        "print(\"into bool\",bool(num))\n"
      ],
      "metadata": {
        "colab": {
          "base_uri": "https://localhost:8080/"
        },
        "id": "GJ2qoXHMZPg5",
        "outputId": "46f23b14-9d5c-4349-e8bb-40fcbb755b3b"
      },
      "execution_count": 21,
      "outputs": [
        {
          "output_type": "stream",
          "name": "stdout",
          "text": [
            "enter the input1\n",
            "into int 1\n",
            "into float 1.0\n",
            "into bool True\n"
          ]
        }
      ]
    },
    {
      "cell_type": "code",
      "source": [
        "#10.  Write code to demonstrate type casting with list elements.\n",
        "\n",
        "string_list = ['1', '2', '3', '4']\n",
        "int_list = []\n",
        "\n",
        "for item in string_list:\n",
        "    int_list.append(int(item))  #here i have converted string items from the list to int item\n",
        "\n",
        "print(\"Strings:\", string_list)  #printed the origional list\n",
        "print(\"Integers:\", int_list)    #printed the converted list\n",
        "\n"
      ],
      "metadata": {
        "colab": {
          "base_uri": "https://localhost:8080/"
        },
        "id": "k0IuBURfZ4pT",
        "outputId": "2ff20889-6f38-4008-e01e-3c068c5a1114"
      },
      "execution_count": 5,
      "outputs": [
        {
          "output_type": "stream",
          "name": "stdout",
          "text": [
            "Strings: ['1', '2', '3', '4']\n",
            "Integers: [1, 2, 3, 4]\n"
          ]
        }
      ]
    },
    {
      "cell_type": "code",
      "source": [
        "#11.Write a program that checks if a number is positive, negative, or zero.\n",
        "\n",
        "num = int(input(\"enter the number\"))\n",
        "if num>0:\n",
        "  print(\"number is positive\")\n",
        "elif num<0:\n",
        "    print(\"number is negative\")\n",
        "else:\n",
        "    print(\"number is zero\")"
      ],
      "metadata": {
        "colab": {
          "base_uri": "https://localhost:8080/"
        },
        "id": "fLaymnGYZzKE",
        "outputId": "84dcc891-bba4-4229-9b0c-1e9ae0109828"
      },
      "execution_count": 9,
      "outputs": [
        {
          "output_type": "stream",
          "name": "stdout",
          "text": [
            "enter the number0\n",
            "number is zero\n"
          ]
        }
      ]
    },
    {
      "cell_type": "code",
      "source": [
        "#12.Write a for loop to print numbers from 1 to 10\n",
        "for i in range(1,11):\n",
        "  print(i)"
      ],
      "metadata": {
        "colab": {
          "base_uri": "https://localhost:8080/"
        },
        "id": "hTtNa18Papid",
        "outputId": "4491f7ed-95af-4eb2-e87c-72ddb581736c"
      },
      "execution_count": 10,
      "outputs": [
        {
          "output_type": "stream",
          "name": "stdout",
          "text": [
            "1\n",
            "2\n",
            "3\n",
            "4\n",
            "5\n",
            "6\n",
            "7\n",
            "8\n",
            "9\n",
            "10\n"
          ]
        }
      ]
    },
    {
      "cell_type": "code",
      "source": [
        "#13. Write a Python program to find the sum of all even numbers between 1 and 50.\n",
        "sum=0\n",
        "for i in range(1,51):\n",
        "  if i%2==0:\n",
        "    sum=sum+i\n",
        "print(\"sum of even numbers is\",sum)"
      ],
      "metadata": {
        "colab": {
          "base_uri": "https://localhost:8080/"
        },
        "id": "NTT2hxKLa3xz",
        "outputId": "a9da14b6-345c-4a8e-9abb-8693e5ab9d2b"
      },
      "execution_count": 11,
      "outputs": [
        {
          "output_type": "stream",
          "name": "stdout",
          "text": [
            "sum of even numbers is 650\n"
          ]
        }
      ]
    },
    {
      "cell_type": "code",
      "source": [
        "#14. Write a program to reverse a string using a while loop\n",
        "text = \"hello\"\n",
        "i = len(text) - 1\n",
        "rev = \"\"\n",
        "\n",
        "while i >= 0:\n",
        "    rev = rev + text[i]\n",
        "    i = i - 1\n",
        "\n",
        "print(rev)\n"
      ],
      "metadata": {
        "colab": {
          "base_uri": "https://localhost:8080/"
        },
        "id": "yWY9lEwLbM4K",
        "outputId": "6cab6e56-1f50-4bed-f5f2-e1eb5822976c"
      },
      "execution_count": 12,
      "outputs": [
        {
          "output_type": "stream",
          "name": "stdout",
          "text": [
            "olleh\n"
          ]
        }
      ]
    },
    {
      "cell_type": "code",
      "source": [
        "#15.Write a Python program to calculate the factorial of a number provided by the user using a while loop\n",
        "num = int(input(\"Enter a number: \"))\n",
        "fact = 1\n",
        "i = 1\n",
        "\n",
        "while i <= num:\n",
        "    fact = fact * i\n",
        "    i = i + 1\n",
        "\n",
        "print(\"Factorial of\", num, \"is\", fact)\n"
      ],
      "metadata": {
        "colab": {
          "base_uri": "https://localhost:8080/"
        },
        "id": "yzkR5pqwcBrS",
        "outputId": "8266d590-47ba-471e-fc52-08dca3a25da7"
      },
      "execution_count": 13,
      "outputs": [
        {
          "output_type": "stream",
          "name": "stdout",
          "text": [
            "Enter a number: 6\n",
            "Factorial of 6 is 720\n"
          ]
        }
      ]
    }
  ]
}